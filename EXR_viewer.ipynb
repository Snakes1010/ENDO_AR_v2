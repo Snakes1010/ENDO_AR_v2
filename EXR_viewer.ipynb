{
 "cells": [
  {
   "cell_type": "code",
   "execution_count": 2,
   "metadata": {},
   "outputs": [
    {
     "name": "stdout",
     "output_type": "stream",
     "text": [
      "Jupyter environment detected. Enabling Open3D WebVisualizer.\n",
      "[Open3D INFO] WebRTC GUI backend enabled.\n",
      "[Open3D INFO] WebRTCWindowSystem: HTTP handshake server disabled.\n"
     ]
    }
   ],
   "source": [
    "import cv2 as cv\n",
    "import os\n",
    "os.environ['OPENCV_IO_ENABLE_OPENEXR'] = '1'\n",
    "import numpy as np\n",
    "import open3d as o3d\n",
    "import json"
   ]
  },
  {
   "cell_type": "code",
   "execution_count": 2,
   "metadata": {},
   "outputs": [],
   "source": [
    "###########################################\n",
    "# Fn coverts a distance image from blender EXR \n",
    "# where dist is measured from the camera to a \n",
    "# depth image where there in no angular bias\n",
    "###########################################\n",
    "\n",
    "def dist2depth_img(dist_img, focal =3500):\n",
    "    img_width = dist_img.shape[1]\n",
    "    img_height = dist_img.shape[0]\n",
    "\n",
    "    cx = img_width // 2\n",
    "    cy = img_height// 2\n",
    "\n",
    "    xs = np.arange(img_width) - cx\n",
    "    ys = np.arange(img_height) - cy\n",
    "    xis, yis = np.meshgrid(xs, ys)\n",
    "    depth = np.sqrt(dist_img**2 / ((xis**2 + yis**2)/ (focal**2) +1))\n",
    "\n",
    "    return depth.astype(np.float32)"
   ]
  },
  {
   "cell_type": "code",
   "execution_count": 3,
   "metadata": {},
   "outputs": [
    {
     "name": "stdout",
     "output_type": "stream",
     "text": [
      "Loaded Q:\n",
      " [[ 1.00000000e+00  0.00000000e+00  0.00000000e+00  3.13957336e+02]\n",
      " [ 0.00000000e+00  1.00000000e+00  0.00000000e+00 -3.55971863e+02]\n",
      " [ 0.00000000e+00  0.00000000e+00  0.00000000e+00  3.53731922e+03]\n",
      " [ 0.00000000e+00  0.00000000e+00  1.86458848e+01  2.21144669e+04]]\n"
     ]
    }
   ],
   "source": [
    "fs = cv.FileStorage('Q_12_7.yaml', cv.FILE_STORAGE_READ)\n",
    "Q = fs.getNode('Q').mat()\n",
    "print(\"Loaded Q:\\n\", Q)\n",
    "# Release the FileStorage object\n",
    "fs.release()"
   ]
  },
  {
   "cell_type": "code",
   "execution_count": 9,
   "metadata": {},
   "outputs": [
    {
     "name": "stdout",
     "output_type": "stream",
     "text": [
      "left camera focal length: 3526.854419933091\n",
      "left vamera focal length in mm: 48.49424827408001\n",
      "baseline in mm: -0.05280316689838094\n"
     ]
    }
   ],
   "source": [
    "############################################\n",
    "# Import camera calibration data\n",
    "# from calib.io program via json\n",
    "#############################################\n",
    "with open('/home/jacob/Snake2TB/endo_calib/low_cost_proj/8_11_2x/low_cost_dual_Charuco.json', 'r') as file:\n",
    "    calib = json.load(file)\n",
    "\n",
    "sensor_width_mm = 8.8\n",
    "sensor_height_mm = 6.6\n",
    "sensor_width_px = 640\n",
    "sensor_height_px = 480\n",
    "\n",
    "left_cam_model = calib[\"Calibration\"][\"cameras\"][0][\"model\"][\"ptr_wrapper\"][\"data\"][\"parameters\"]\n",
    "left_cam_f_px = left_cam_model[\"f\"][\"val\"]\n",
    "left_cam_cx_px = left_cam_model[\"cx\"][\"val\"]\n",
    "left_cam_cy_px = left_cam_model[\"cy\"][\"val\"]\n",
    "left_cam_f_mm = left_cam_f_px * (sensor_width_mm / sensor_width_px)\n",
    "left_shift_x = (left_cam_cx_px - sensor_width_px / 2) / sensor_width_px\n",
    "left_shift_y = (left_cam_cy_px - sensor_height_px /2) / sensor_height_px\n",
    "\n",
    "\n",
    "right_cam_model = calib[\"Calibration\"][\"cameras\"][1][\"model\"][\"ptr_wrapper\"][\"data\"][\"parameters\"]\n",
    "right_cam_f_px = right_cam_model[\"f\"][\"val\"]\n",
    "right_cam_cx_px = right_cam_model[\"cx\"][\"val\"]\n",
    "right_cam_cy_px = right_cam_model[\"cy\"][\"val\"]\n",
    "right_cam_f_mm = right_cam_f_px * (sensor_width_mm / sensor_width_px)\n",
    "right_shift_x = (right_cam_cx_px - sensor_width_px / 2) / sensor_width_px\n",
    "right_shift_y = (right_cam_cy_px - sensor_height_px /2) / sensor_height_px\n",
    "\n",
    "\n",
    "extrinsics = calib[\"Calibration\"][\"cameras\"][1][\"transform\"]\n",
    "rot = extrinsics[\"rotation\"]\n",
    "rx = rot['rx']\n",
    "ry = rot['ry']\n",
    "rz = rot['rz']\n",
    "trans = extrinsics[\"translation\"]\n",
    "tx = trans['x']*1000\n",
    "ty = trans['y']*1000\n",
    "tz = trans['z']*1000\n",
    "\n",
    "print('left camera focal length:', left_cam_f_px)\n",
    "print('left vamera focal length in mm:', left_cam_f_mm)\n",
    "print('baseline in mm:', tx)"
   ]
  },
  {
   "cell_type": "code",
   "execution_count": 12,
   "metadata": {},
   "outputs": [
    {
     "data": {
      "text/plain": [
       "-0.05280316689838094"
      ]
     },
     "execution_count": 12,
     "metadata": {},
     "output_type": "execute_result"
    }
   ],
   "source": [
    "tx\n"
   ]
  },
  {
   "cell_type": "code",
   "execution_count": null,
   "metadata": {},
   "outputs": [],
   "source": []
  },
  {
   "cell_type": "code",
   "execution_count": 4,
   "metadata": {},
   "outputs": [],
   "source": [
    "file_L = cv.imread(\"/home/jacob/Snake2TB/Blender_bin/Endo_scans/stereo_test_images_jan_23/depth_000005_L.exr\", cv.IMREAD_ANYCOLOR | cv.IMREAD_ANYDEPTH)\n",
    "file_R = cv.imread(\"/home/jacob/Snake2TB/Blender_bin/Endo_scans/stereo_test_images_jan_23/depth_000005_R.exr\", cv.IMREAD_ANYCOLOR | cv.IMREAD_ANYDEPTH)\n",
    "\n",
    "gray_image_L = cv.cvtColor(file_L, cv.COLOR_BGR2GRAY)\n",
    "gray_image_R = cv.cvtColor(file_R, cv.COLOR_BGR2GRAY)"
   ]
  },
  {
   "cell_type": "code",
   "execution_count": 6,
   "metadata": {},
   "outputs": [],
   "source": [
    "cv.imshow('img', gray_image_L)"
   ]
  },
  {
   "cell_type": "code",
   "execution_count": 8,
   "metadata": {},
   "outputs": [
    {
     "data": {
      "text/plain": [
       "(480, 640)"
      ]
     },
     "execution_count": 8,
     "metadata": {},
     "output_type": "execute_result"
    },
    {
     "ename": "",
     "evalue": "",
     "output_type": "error",
     "traceback": [
      "\u001b[1;31mThe Kernel crashed while executing code in the the current cell or a previous cell. Please review the code in the cell(s) to identify a possible cause of the failure. Click <a href='https://aka.ms/vscodeJupyterKernelCrash'>here</a> for more info. View Jupyter <a href='command:jupyter.viewOutput'>log</a> for further details."
     ]
    }
   ],
   "source": [
    "gray_image_L.shape"
   ]
  },
  {
   "cell_type": "code",
   "execution_count": 19,
   "metadata": {},
   "outputs": [
    {
     "data": {
      "image/png": "[encoded data removed]",
      "text/plain": [
       "<Figure size 1000x600 with 1 Axes>"
      ]
     },
     "metadata": {},
     "output_type": "display_data"
    }
   ],
   "source": [
    "import numpy as np\n",
    "import matplotlib.pyplot as plt\n",
    "\n",
    "def disparity_from_depth(depth):\n",
    "    \"\"\"\n",
    "    Calculate disparity from depth using the formula d = 231000 / z.\n",
    "    \n",
    "    Args:\n",
    "    - depth (float or numpy array): Depth value(s)\n",
    "    \n",
    "    Returns:\n",
    "    - float or numpy array: Disparity value(s)\n",
    "    \"\"\"\n",
    "    return 3500*.066 / depth\n",
    "\n",
    "# Generate depth values in the range [0, 350]\n",
    "depth_values = np.linspace(.200, .350, 100)  #\n",
    "# Calculate corresponding disparity values\n",
    "disparity_values = disparity_from_depth(depth_values)\n",
    "\n",
    "# Plotting\n",
    "plt.figure(figsize=(10, 6))\n",
    "plt.plot(depth_values, disparity_values, label='Disparity as a function of Depth')\n",
    "plt.xlabel('Depth (mm)')\n",
    "plt.ylabel('Disparity')\n",
    "plt.title('Disparity vs. Depth')\n",
    "plt.grid(True)\n",
    "plt.legend()\n",
    "plt.show()"
   ]
  },
  {
   "cell_type": "markdown",
   "metadata": {},
   "source": []
  }
 ],
 "metadata": {
  "kernelspec": {
   "display_name": "DeepL",
   "language": "python",
   "name": "python3"
  },
  "language_info": {
   "codemirror_mode": {
    "name": "ipython",
    "version": 3
   },
   "file_extension": ".py",
   "mimetype": "text/x-python",
   "name": "python",
   "nbconvert_exporter": "python",
   "pygments_lexer": "ipython3",
   "version": "3.9.18"
  }
 },
 "nbformat": 4,
 "nbformat_minor": 2
}
