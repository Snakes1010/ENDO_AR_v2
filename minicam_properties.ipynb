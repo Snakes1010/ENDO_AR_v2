{
 "cells": [
  {
   "cell_type": "code",
   "execution_count": 8,
   "metadata": {},
   "outputs": [
    {
     "name": "stdout",
     "output_type": "stream",
     "text": [
      "Available properties for device index 0 :\n",
      "\n",
      "Property ID: 0 : 0.0\n",
      "Property ID: 1 : -1.0\n",
      "Property ID: 2 : -1.0\n",
      "Property ID: 3 : 640.0\n",
      "Property ID: 4 : 480.0\n",
      "Property ID: 5 : 30.00003000003\n"
     ]
    }
   ],
   "source": [
    "import cv2\n",
    "\n",
    "def list_capture_properties(device_index):\n",
    "    cap = cv2.VideoCapture(device_index)\n",
    "    \n",
    "    if not cap.isOpened():\n",
    "        print(\"Error: Could not open video device.\")\n",
    "        return\n",
    "    \n",
    "    # Get the total number of properties\n",
    "    total_properties = int(cv2.CAP_PROP_FPS) + 1\n",
    "    \n",
    "    print(\"Available properties for device index\", device_index, \":\\n\")\n",
    "    \n",
    "    # Iterate through each property and print its value\n",
    "    for prop_id in range(total_properties):\n",
    "        prop_value = cap.get(prop_id)\n",
    "        print(\"Property ID:\", prop_id, \":\", cap.get(prop_id))\n",
    "    \n",
    "    # Release the capture device\n",
    "    cap.release()\n",
    "\n",
    "# Example usage: List properties for device index 0\n",
    "list_capture_properties(0)\n",
    "\n"
   ]
  },
  {
   "cell_type": "code",
   "execution_count": 9,
   "metadata": {},
   "outputs": [
    {
     "name": "stdout",
     "output_type": "stream",
     "text": [
      "Available properties for device index 0 :\n",
      "\n",
      "0: Position in milliseconds: 0.0\n",
      "1: Position in frames: -1.0\n",
      "2: Position relative to the video file's duration: -1.0\n",
      "3: Frame width: 640.0\n",
      "4: Frame height: 480.0\n",
      "5: Frame rate: 30.00003000003\n",
      "6: FourCC code: 861030210.0\n",
      "7: Total number of frames: -1.0\n",
      "8: Format of the Mat objects returned by retrieve(): 16.0\n",
      "9: Backend-specific value indicating the current capture mode: 0.0\n",
      "10: Brightness: 0.0\n",
      "11: Contrast: 100.0\n",
      "12: Saturation: 100.0\n",
      "13: Hue: 0.0\n",
      "14: Gain: -1.0\n",
      "15: Exposure: -1.0\n"
     ]
    }
   ],
   "source": [
    "\n",
    "# Define a dictionary mapping property IDs to their names\n",
    "PROPERTY_NAMES = {\n",
    "    cv2.CAP_PROP_POS_MSEC: \"Position in milliseconds\",\n",
    "    cv2.CAP_PROP_POS_FRAMES: \"Position in frames\",\n",
    "    cv2.CAP_PROP_POS_AVI_RATIO: \"Position relative to the video file's duration\",\n",
    "    cv2.CAP_PROP_FRAME_WIDTH: \"Frame width\",\n",
    "    cv2.CAP_PROP_FRAME_HEIGHT: \"Frame height\",\n",
    "    cv2.CAP_PROP_FPS: \"Frame rate\",\n",
    "    cv2.CAP_PROP_FOURCC: \"FourCC code\",\n",
    "    cv2.CAP_PROP_FRAME_COUNT: \"Total number of frames\",\n",
    "    cv2.CAP_PROP_FORMAT: \"Format of the Mat objects returned by retrieve()\",\n",
    "    cv2.CAP_PROP_MODE: \"Backend-specific value indicating the current capture mode\",\n",
    "    cv2.CAP_PROP_BRIGHTNESS: \"Brightness\",\n",
    "    cv2.CAP_PROP_CONTRAST: \"Contrast\",\n",
    "    cv2.CAP_PROP_SATURATION: \"Saturation\",\n",
    "    cv2.CAP_PROP_HUE: \"Hue\",\n",
    "    cv2.CAP_PROP_GAIN: \"Gain\",\n",
    "    cv2.CAP_PROP_EXPOSURE: \"Exposure\",\n",
    "\n",
    "}\n",
    "\n",
    "def list_capture_properties(device_index):\n",
    "    cap = cv2.VideoCapture(device_index)\n",
    "    \n",
    "    if not cap.isOpened():\n",
    "        print(\"Error: Could not open video device.\")\n",
    "        return\n",
    "    \n",
    "    print(\"Available properties for device index\", device_index, \":\\n\")\n",
    "    \n",
    "    # Iterate through each property and print its name and value\n",
    "    for prop_id, prop_name in PROPERTY_NAMES.items():\n",
    "        prop_value = cap.get(prop_id)\n",
    "        print(f\"{prop_id}: {prop_name}: {prop_value}\")\n",
    "    \n",
    "    # Release the capture device\n",
    "    cap.release()\n",
    "\n",
    "# Example usage: List properties for device index 0\n",
    "list_capture_properties(0)\n"
   ]
  },
  {
   "cell_type": "code",
   "execution_count": null,
   "metadata": {},
   "outputs": [],
   "source": []
  }
 ],
 "metadata": {
  "kernelspec": {
   "display_name": "DeepL",
   "language": "python",
   "name": "python3"
  },
  "language_info": {
   "codemirror_mode": {
    "name": "ipython",
    "version": 3
   },
   "file_extension": ".py",
   "mimetype": "text/x-python",
   "name": "python",
   "nbconvert_exporter": "python",
   "pygments_lexer": "ipython3",
   "version": "3.9.18"
  }
 },
 "nbformat": 4,
 "nbformat_minor": 2
}
